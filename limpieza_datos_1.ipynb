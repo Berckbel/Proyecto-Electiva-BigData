{
 "metadata": {
  "language_info": {
   "codemirror_mode": {
    "name": "ipython",
    "version": 3
   },
   "file_extension": ".py",
   "mimetype": "text/x-python",
   "name": "python",
   "nbconvert_exporter": "python",
   "pygments_lexer": "ipython3",
   "version": "3.8.4-final"
  },
  "orig_nbformat": 2,
  "kernelspec": {
   "name": "python384jvsc74a57bd07816e210d227dabd5ca54f694af37b54db368e6fe10fb0d3820fcb1dcb64597f",
   "display_name": "Python 3.8.4 32-bit"
  }
 },
 "nbformat": 4,
 "nbformat_minor": 2,
 "cells": [
  {
   "cell_type": "code",
   "execution_count": 26,
   "metadata": {},
   "outputs": [],
   "source": [
    "import pandas as pd\n",
    "import numpy as np\n",
    "import seaborn as sns\n",
    "import matplotlib.pyplot as plt"
   ]
  },
  {
   "source": [
    "<h1>Limpieza de datos null</h1>"
   ],
   "cell_type": "markdown",
   "metadata": {}
  },
  {
   "cell_type": "code",
   "execution_count": 27,
   "metadata": {},
   "outputs": [],
   "source": [
    "data = pd.read_csv('datasets\\weatherAUS.csv')"
   ]
  },
  {
   "cell_type": "code",
   "execution_count": 28,
   "metadata": {},
   "outputs": [
    {
     "output_type": "execute_result",
     "data": {
      "text/plain": [
       "         Date Location  MinTemp  MaxTemp  Rainfall  Evaporation  Sunshine  \\\n",
       "0  2008-12-01   Albury     13.4     22.9       0.6          NaN       NaN   \n",
       "1  2008-12-02   Albury      7.4     25.1       0.0          NaN       NaN   \n",
       "2  2008-12-03   Albury     12.9     25.7       0.0          NaN       NaN   \n",
       "3  2008-12-04   Albury      9.2     28.0       0.0          NaN       NaN   \n",
       "4  2008-12-05   Albury     17.5     32.3       1.0          NaN       NaN   \n",
       "5  2008-12-06   Albury     14.6     29.7       0.2          NaN       NaN   \n",
       "6  2008-12-07   Albury     14.3     25.0       0.0          NaN       NaN   \n",
       "7  2008-12-08   Albury      7.7     26.7       0.0          NaN       NaN   \n",
       "8  2008-12-09   Albury      9.7     31.9       0.0          NaN       NaN   \n",
       "9  2008-12-10   Albury     13.1     30.1       1.4          NaN       NaN   \n",
       "\n",
       "  WindGustDir  WindGustSpeed WindDir9am  ... Humidity9am  Humidity3pm  \\\n",
       "0           W           44.0          W  ...        71.0         22.0   \n",
       "1         WNW           44.0        NNW  ...        44.0         25.0   \n",
       "2         WSW           46.0          W  ...        38.0         30.0   \n",
       "3          NE           24.0         SE  ...        45.0         16.0   \n",
       "4           W           41.0        ENE  ...        82.0         33.0   \n",
       "5         WNW           56.0          W  ...        55.0         23.0   \n",
       "6           W           50.0         SW  ...        49.0         19.0   \n",
       "7           W           35.0        SSE  ...        48.0         19.0   \n",
       "8         NNW           80.0         SE  ...        42.0          9.0   \n",
       "9           W           28.0          S  ...        58.0         27.0   \n",
       "\n",
       "   Pressure9am  Pressure3pm  Cloud9am  Cloud3pm  Temp9am  Temp3pm  RainToday  \\\n",
       "0       1007.7       1007.1       8.0       NaN     16.9     21.8         No   \n",
       "1       1010.6       1007.8       NaN       NaN     17.2     24.3         No   \n",
       "2       1007.6       1008.7       NaN       2.0     21.0     23.2         No   \n",
       "3       1017.6       1012.8       NaN       NaN     18.1     26.5         No   \n",
       "4       1010.8       1006.0       7.0       8.0     17.8     29.7         No   \n",
       "5       1009.2       1005.4       NaN       NaN     20.6     28.9         No   \n",
       "6       1009.6       1008.2       1.0       NaN     18.1     24.6         No   \n",
       "7       1013.4       1010.1       NaN       NaN     16.3     25.5         No   \n",
       "8       1008.9       1003.6       NaN       NaN     18.3     30.2         No   \n",
       "9       1007.0       1005.7       NaN       NaN     20.1     28.2        Yes   \n",
       "\n",
       "   RainTomorrow  \n",
       "0            No  \n",
       "1            No  \n",
       "2            No  \n",
       "3            No  \n",
       "4            No  \n",
       "5            No  \n",
       "6            No  \n",
       "7            No  \n",
       "8           Yes  \n",
       "9            No  \n",
       "\n",
       "[10 rows x 23 columns]"
      ],
      "text/html": "<div>\n<style scoped>\n    .dataframe tbody tr th:only-of-type {\n        vertical-align: middle;\n    }\n\n    .dataframe tbody tr th {\n        vertical-align: top;\n    }\n\n    .dataframe thead th {\n        text-align: right;\n    }\n</style>\n<table border=\"1\" class=\"dataframe\">\n  <thead>\n    <tr style=\"text-align: right;\">\n      <th></th>\n      <th>Date</th>\n      <th>Location</th>\n      <th>MinTemp</th>\n      <th>MaxTemp</th>\n      <th>Rainfall</th>\n      <th>Evaporation</th>\n      <th>Sunshine</th>\n      <th>WindGustDir</th>\n      <th>WindGustSpeed</th>\n      <th>WindDir9am</th>\n      <th>...</th>\n      <th>Humidity9am</th>\n      <th>Humidity3pm</th>\n      <th>Pressure9am</th>\n      <th>Pressure3pm</th>\n      <th>Cloud9am</th>\n      <th>Cloud3pm</th>\n      <th>Temp9am</th>\n      <th>Temp3pm</th>\n      <th>RainToday</th>\n      <th>RainTomorrow</th>\n    </tr>\n  </thead>\n  <tbody>\n    <tr>\n      <th>0</th>\n      <td>2008-12-01</td>\n      <td>Albury</td>\n      <td>13.4</td>\n      <td>22.9</td>\n      <td>0.6</td>\n      <td>NaN</td>\n      <td>NaN</td>\n      <td>W</td>\n      <td>44.0</td>\n      <td>W</td>\n      <td>...</td>\n      <td>71.0</td>\n      <td>22.0</td>\n      <td>1007.7</td>\n      <td>1007.1</td>\n      <td>8.0</td>\n      <td>NaN</td>\n      <td>16.9</td>\n      <td>21.8</td>\n      <td>No</td>\n      <td>No</td>\n    </tr>\n    <tr>\n      <th>1</th>\n      <td>2008-12-02</td>\n      <td>Albury</td>\n      <td>7.4</td>\n      <td>25.1</td>\n      <td>0.0</td>\n      <td>NaN</td>\n      <td>NaN</td>\n      <td>WNW</td>\n      <td>44.0</td>\n      <td>NNW</td>\n      <td>...</td>\n      <td>44.0</td>\n      <td>25.0</td>\n      <td>1010.6</td>\n      <td>1007.8</td>\n      <td>NaN</td>\n      <td>NaN</td>\n      <td>17.2</td>\n      <td>24.3</td>\n      <td>No</td>\n      <td>No</td>\n    </tr>\n    <tr>\n      <th>2</th>\n      <td>2008-12-03</td>\n      <td>Albury</td>\n      <td>12.9</td>\n      <td>25.7</td>\n      <td>0.0</td>\n      <td>NaN</td>\n      <td>NaN</td>\n      <td>WSW</td>\n      <td>46.0</td>\n      <td>W</td>\n      <td>...</td>\n      <td>38.0</td>\n      <td>30.0</td>\n      <td>1007.6</td>\n      <td>1008.7</td>\n      <td>NaN</td>\n      <td>2.0</td>\n      <td>21.0</td>\n      <td>23.2</td>\n      <td>No</td>\n      <td>No</td>\n    </tr>\n    <tr>\n      <th>3</th>\n      <td>2008-12-04</td>\n      <td>Albury</td>\n      <td>9.2</td>\n      <td>28.0</td>\n      <td>0.0</td>\n      <td>NaN</td>\n      <td>NaN</td>\n      <td>NE</td>\n      <td>24.0</td>\n      <td>SE</td>\n      <td>...</td>\n      <td>45.0</td>\n      <td>16.0</td>\n      <td>1017.6</td>\n      <td>1012.8</td>\n      <td>NaN</td>\n      <td>NaN</td>\n      <td>18.1</td>\n      <td>26.5</td>\n      <td>No</td>\n      <td>No</td>\n    </tr>\n    <tr>\n      <th>4</th>\n      <td>2008-12-05</td>\n      <td>Albury</td>\n      <td>17.5</td>\n      <td>32.3</td>\n      <td>1.0</td>\n      <td>NaN</td>\n      <td>NaN</td>\n      <td>W</td>\n      <td>41.0</td>\n      <td>ENE</td>\n      <td>...</td>\n      <td>82.0</td>\n      <td>33.0</td>\n      <td>1010.8</td>\n      <td>1006.0</td>\n      <td>7.0</td>\n      <td>8.0</td>\n      <td>17.8</td>\n      <td>29.7</td>\n      <td>No</td>\n      <td>No</td>\n    </tr>\n    <tr>\n      <th>5</th>\n      <td>2008-12-06</td>\n      <td>Albury</td>\n      <td>14.6</td>\n      <td>29.7</td>\n      <td>0.2</td>\n      <td>NaN</td>\n      <td>NaN</td>\n      <td>WNW</td>\n      <td>56.0</td>\n      <td>W</td>\n      <td>...</td>\n      <td>55.0</td>\n      <td>23.0</td>\n      <td>1009.2</td>\n      <td>1005.4</td>\n      <td>NaN</td>\n      <td>NaN</td>\n      <td>20.6</td>\n      <td>28.9</td>\n      <td>No</td>\n      <td>No</td>\n    </tr>\n    <tr>\n      <th>6</th>\n      <td>2008-12-07</td>\n      <td>Albury</td>\n      <td>14.3</td>\n      <td>25.0</td>\n      <td>0.0</td>\n      <td>NaN</td>\n      <td>NaN</td>\n      <td>W</td>\n      <td>50.0</td>\n      <td>SW</td>\n      <td>...</td>\n      <td>49.0</td>\n      <td>19.0</td>\n      <td>1009.6</td>\n      <td>1008.2</td>\n      <td>1.0</td>\n      <td>NaN</td>\n      <td>18.1</td>\n      <td>24.6</td>\n      <td>No</td>\n      <td>No</td>\n    </tr>\n    <tr>\n      <th>7</th>\n      <td>2008-12-08</td>\n      <td>Albury</td>\n      <td>7.7</td>\n      <td>26.7</td>\n      <td>0.0</td>\n      <td>NaN</td>\n      <td>NaN</td>\n      <td>W</td>\n      <td>35.0</td>\n      <td>SSE</td>\n      <td>...</td>\n      <td>48.0</td>\n      <td>19.0</td>\n      <td>1013.4</td>\n      <td>1010.1</td>\n      <td>NaN</td>\n      <td>NaN</td>\n      <td>16.3</td>\n      <td>25.5</td>\n      <td>No</td>\n      <td>No</td>\n    </tr>\n    <tr>\n      <th>8</th>\n      <td>2008-12-09</td>\n      <td>Albury</td>\n      <td>9.7</td>\n      <td>31.9</td>\n      <td>0.0</td>\n      <td>NaN</td>\n      <td>NaN</td>\n      <td>NNW</td>\n      <td>80.0</td>\n      <td>SE</td>\n      <td>...</td>\n      <td>42.0</td>\n      <td>9.0</td>\n      <td>1008.9</td>\n      <td>1003.6</td>\n      <td>NaN</td>\n      <td>NaN</td>\n      <td>18.3</td>\n      <td>30.2</td>\n      <td>No</td>\n      <td>Yes</td>\n    </tr>\n    <tr>\n      <th>9</th>\n      <td>2008-12-10</td>\n      <td>Albury</td>\n      <td>13.1</td>\n      <td>30.1</td>\n      <td>1.4</td>\n      <td>NaN</td>\n      <td>NaN</td>\n      <td>W</td>\n      <td>28.0</td>\n      <td>S</td>\n      <td>...</td>\n      <td>58.0</td>\n      <td>27.0</td>\n      <td>1007.0</td>\n      <td>1005.7</td>\n      <td>NaN</td>\n      <td>NaN</td>\n      <td>20.1</td>\n      <td>28.2</td>\n      <td>Yes</td>\n      <td>No</td>\n    </tr>\n  </tbody>\n</table>\n<p>10 rows × 23 columns</p>\n</div>"
     },
     "metadata": {},
     "execution_count": 28
    }
   ],
   "source": [
    "data.head(10)"
   ]
  },
  {
   "cell_type": "code",
   "execution_count": 29,
   "metadata": {},
   "outputs": [
    {
     "output_type": "stream",
     "name": "stdout",
     "text": [
      "<class 'pandas.core.frame.DataFrame'>\nRangeIndex: 145460 entries, 0 to 145459\nData columns (total 23 columns):\n #   Column         Non-Null Count   Dtype  \n---  ------         --------------   -----  \n 0   Date           145460 non-null  object \n 1   Location       145460 non-null  object \n 2   MinTemp        143975 non-null  float64\n 3   MaxTemp        144199 non-null  float64\n 4   Rainfall       142199 non-null  float64\n 5   Evaporation    82670 non-null   float64\n 6   Sunshine       75625 non-null   float64\n 7   WindGustDir    135134 non-null  object \n 8   WindGustSpeed  135197 non-null  float64\n 9   WindDir9am     134894 non-null  object \n 10  WindDir3pm     141232 non-null  object \n 11  WindSpeed9am   143693 non-null  float64\n 12  WindSpeed3pm   142398 non-null  float64\n 13  Humidity9am    142806 non-null  float64\n 14  Humidity3pm    140953 non-null  float64\n 15  Pressure9am    130395 non-null  float64\n 16  Pressure3pm    130432 non-null  float64\n 17  Cloud9am       89572 non-null   float64\n 18  Cloud3pm       86102 non-null   float64\n 19  Temp9am        143693 non-null  float64\n 20  Temp3pm        141851 non-null  float64\n 21  RainToday      142199 non-null  object \n 22  RainTomorrow   142193 non-null  object \ndtypes: float64(16), object(7)\nmemory usage: 21.6+ MB\n"
     ]
    }
   ],
   "source": [
    "data.info()"
   ]
  },
  {
   "cell_type": "code",
   "execution_count": 30,
   "metadata": {},
   "outputs": [
    {
     "output_type": "execute_result",
     "data": {
      "text/plain": [
       "Date                 0\n",
       "Location             0\n",
       "MinTemp           1485\n",
       "MaxTemp           1261\n",
       "Rainfall          3261\n",
       "Evaporation      62790\n",
       "Sunshine         69835\n",
       "WindGustDir      10326\n",
       "WindGustSpeed    10263\n",
       "WindDir9am       10566\n",
       "WindDir3pm        4228\n",
       "WindSpeed9am      1767\n",
       "WindSpeed3pm      3062\n",
       "Humidity9am       2654\n",
       "Humidity3pm       4507\n",
       "Pressure9am      15065\n",
       "Pressure3pm      15028\n",
       "Cloud9am         55888\n",
       "Cloud3pm         59358\n",
       "Temp9am           1767\n",
       "Temp3pm           3609\n",
       "RainToday         3261\n",
       "RainTomorrow      3267\n",
       "dtype: int64"
      ]
     },
     "metadata": {},
     "execution_count": 30
    }
   ],
   "source": [
    "pd.isna(data).sum()"
   ]
  },
  {
   "source": [
    "<h1>OBTENER LA MEDIA DE LOS FLOAT Y LA MODA DE LOS STRING</h1>"
   ],
   "cell_type": "markdown",
   "metadata": {}
  },
  {
   "cell_type": "code",
   "execution_count": 31,
   "metadata": {},
   "outputs": [],
   "source": [
    "#----datos float------\n",
    "mintemp_mean = data['MinTemp'].mean()\n",
    "maxtemp_mean = data['MaxTemp'].mean()\n",
    "rainfall_mean = data['Rainfall'].mean()\n",
    "evaporation_mean = data['Evaporation'].mean()\n",
    "sunshine_mean = data['Sunshine'].mean()\n",
    "windgustspeed_mean = data['WindGustSpeed'].mean()\n",
    "windspeed9am_mean = data['WindSpeed9am'].mean()\n",
    "windspeed3pm_mean = data['WindSpeed3pm'].mean()\n",
    "humiditty9am_mean = data['Humidity9am'].mean()\n",
    "humidity3pm_mean = data['Humidity3pm'].mean()\n",
    "pressure9am_mean = data['Pressure9am'].mean()\n",
    "pressure3pm_mean = data['Pressure3pm'].mean()\n",
    "cloud9am_mean = data['Cloud9am'].mean()\n",
    "cloud3pm_mean = data['Cloud3pm'].mean()\n",
    "temp9am_mean = data['Temp9am'].mean()\n",
    "temp3pm_mean = data['Temp3pm'].mean()\n",
    "\n",
    "#---object(string)(direccion)\n",
    "windgustdir_mode = data['WindGustDir'].mode()[0]\n",
    "winddir9am_mode = data['WindDir9am'].mode()[0]\n",
    "winddir3pm_mode = data['WindDir3pm'].mode()[0]\n",
    "\n",
    "#---objetc(string)(boolean) // mode = No\n",
    "raintoday_mode = data['RainToday'].mode()[0]\n",
    "raintomorrow_mode = data['RainTomorrow'].mode()[0]"
   ]
  },
  {
   "source": [
    "<h1>REEMPLAZR LOS NAN Y NULL CON LA MEDIA EN LOS FLOAT Y CON LA MODA EN LOS STRING</h1>"
   ],
   "cell_type": "markdown",
   "metadata": {}
  },
  {
   "cell_type": "code",
   "execution_count": 32,
   "metadata": {},
   "outputs": [],
   "source": [
    "#----datos float------\n",
    "data['MinTemp'] = data['MinTemp'].replace(np.nan, mintemp_mean)\n",
    "data['MaxTemp'] = data['MaxTemp'].replace(np.nan, maxtemp_mean)\n",
    "data['Rainfall'] = data['Rainfall'].replace(np.nan, rainfall_mean)\n",
    "data['Evaporation'] = data['Evaporation'].replace(np.nan, evaporation_mean)\n",
    "data['Sunshine'] = data['Sunshine'].replace(np.nan, sunshine_mean)\n",
    "data['WindGustSpeed'] = data['WindGustSpeed'].replace(np.nan, windgustspeed_mean)\n",
    "data['WindSpeed9am'] = data['WindSpeed9am'].replace(np.nan, windspeed9am_mean)\n",
    "data['WindSpeed3pm'] = data['WindSpeed3pm'].replace(np.nan, windspeed3pm_mean)\n",
    "data['Humidity9am'] = data['Humidity9am'].replace(np.nan, humiditty9am_mean)\n",
    "data['Humidity3pm'] = data['Humidity3pm'].replace(np.nan, humidity3pm_mean)\n",
    "data['Pressure9am'] = data['Pressure9am'].replace(np.nan, pressure9am_mean)\n",
    "data['Pressure3pm'] = data['Pressure3pm'].replace(np.nan, pressure3pm_mean)\n",
    "data['Cloud9am'] = data['Cloud9am'].replace(np.nan, cloud9am_mean)\n",
    "data['Cloud3pm'] = data['Cloud3pm'].replace(np.nan, cloud3pm_mean)\n",
    "data['Temp9am'] = data['Temp9am'].replace(np.nan, temp9am_mean)\n",
    "data['Temp3pm'] = data['Temp3pm'].replace(np.nan, temp3pm_mean)\n",
    "\n",
    "#---object(string)(direccion)\n",
    "data['WindGustDir'] = data['WindGustDir'].replace(np.nan, windgustdir_mode)\n",
    "data['WindDir9am'] = data['WindDir9am'].replace(np.nan, winddir9am_mode)\n",
    "data['WindDir3pm'] = data['WindDir3pm'].replace(np.nan, winddir3pm_mode)\n",
    "\n",
    "#---objetc(string)(boolean)\n",
    "data['RainToday'] = data['RainToday'].replace(np.nan, raintoday_mode)\n",
    "data['RainTomorrow'] = data['RainTomorrow'].replace(np.nan, raintomorrow_mode)"
   ]
  },
  {
   "cell_type": "code",
   "execution_count": 33,
   "metadata": {},
   "outputs": [
    {
     "output_type": "execute_result",
     "data": {
      "text/plain": [
       "Date             0\n",
       "Location         0\n",
       "MinTemp          0\n",
       "MaxTemp          0\n",
       "Rainfall         0\n",
       "Evaporation      0\n",
       "Sunshine         0\n",
       "WindGustDir      0\n",
       "WindGustSpeed    0\n",
       "WindDir9am       0\n",
       "WindDir3pm       0\n",
       "WindSpeed9am     0\n",
       "WindSpeed3pm     0\n",
       "Humidity9am      0\n",
       "Humidity3pm      0\n",
       "Pressure9am      0\n",
       "Pressure3pm      0\n",
       "Cloud9am         0\n",
       "Cloud3pm         0\n",
       "Temp9am          0\n",
       "Temp3pm          0\n",
       "RainToday        0\n",
       "RainTomorrow     0\n",
       "dtype: int64"
      ]
     },
     "metadata": {},
     "execution_count": 33
    }
   ],
   "source": [
    "pd.isna(data).sum()"
   ]
  },
  {
   "cell_type": "code",
   "execution_count": 34,
   "metadata": {},
   "outputs": [
    {
     "output_type": "execute_result",
     "data": {
      "text/plain": [
       "         Date Location  MinTemp  MaxTemp  Rainfall  Evaporation  Sunshine  \\\n",
       "0  2008-12-01   Albury     13.4     22.9       0.6     5.468232  7.611178   \n",
       "1  2008-12-02   Albury      7.4     25.1       0.0     5.468232  7.611178   \n",
       "2  2008-12-03   Albury     12.9     25.7       0.0     5.468232  7.611178   \n",
       "3  2008-12-04   Albury      9.2     28.0       0.0     5.468232  7.611178   \n",
       "4  2008-12-05   Albury     17.5     32.3       1.0     5.468232  7.611178   \n",
       "5  2008-12-06   Albury     14.6     29.7       0.2     5.468232  7.611178   \n",
       "6  2008-12-07   Albury     14.3     25.0       0.0     5.468232  7.611178   \n",
       "7  2008-12-08   Albury      7.7     26.7       0.0     5.468232  7.611178   \n",
       "8  2008-12-09   Albury      9.7     31.9       0.0     5.468232  7.611178   \n",
       "9  2008-12-10   Albury     13.1     30.1       1.4     5.468232  7.611178   \n",
       "\n",
       "  WindGustDir  WindGustSpeed WindDir9am  ... Humidity9am  Humidity3pm  \\\n",
       "0           W           44.0          W  ...        71.0         22.0   \n",
       "1         WNW           44.0        NNW  ...        44.0         25.0   \n",
       "2         WSW           46.0          W  ...        38.0         30.0   \n",
       "3          NE           24.0         SE  ...        45.0         16.0   \n",
       "4           W           41.0        ENE  ...        82.0         33.0   \n",
       "5         WNW           56.0          W  ...        55.0         23.0   \n",
       "6           W           50.0         SW  ...        49.0         19.0   \n",
       "7           W           35.0        SSE  ...        48.0         19.0   \n",
       "8         NNW           80.0         SE  ...        42.0          9.0   \n",
       "9           W           28.0          S  ...        58.0         27.0   \n",
       "\n",
       "   Pressure9am  Pressure3pm  Cloud9am  Cloud3pm  Temp9am  Temp3pm  RainToday  \\\n",
       "0       1007.7       1007.1  8.000000   4.50993     16.9     21.8         No   \n",
       "1       1010.6       1007.8  4.447461   4.50993     17.2     24.3         No   \n",
       "2       1007.6       1008.7  4.447461   2.00000     21.0     23.2         No   \n",
       "3       1017.6       1012.8  4.447461   4.50993     18.1     26.5         No   \n",
       "4       1010.8       1006.0  7.000000   8.00000     17.8     29.7         No   \n",
       "5       1009.2       1005.4  4.447461   4.50993     20.6     28.9         No   \n",
       "6       1009.6       1008.2  1.000000   4.50993     18.1     24.6         No   \n",
       "7       1013.4       1010.1  4.447461   4.50993     16.3     25.5         No   \n",
       "8       1008.9       1003.6  4.447461   4.50993     18.3     30.2         No   \n",
       "9       1007.0       1005.7  4.447461   4.50993     20.1     28.2        Yes   \n",
       "\n",
       "   RainTomorrow  \n",
       "0            No  \n",
       "1            No  \n",
       "2            No  \n",
       "3            No  \n",
       "4            No  \n",
       "5            No  \n",
       "6            No  \n",
       "7            No  \n",
       "8           Yes  \n",
       "9            No  \n",
       "\n",
       "[10 rows x 23 columns]"
      ],
      "text/html": "<div>\n<style scoped>\n    .dataframe tbody tr th:only-of-type {\n        vertical-align: middle;\n    }\n\n    .dataframe tbody tr th {\n        vertical-align: top;\n    }\n\n    .dataframe thead th {\n        text-align: right;\n    }\n</style>\n<table border=\"1\" class=\"dataframe\">\n  <thead>\n    <tr style=\"text-align: right;\">\n      <th></th>\n      <th>Date</th>\n      <th>Location</th>\n      <th>MinTemp</th>\n      <th>MaxTemp</th>\n      <th>Rainfall</th>\n      <th>Evaporation</th>\n      <th>Sunshine</th>\n      <th>WindGustDir</th>\n      <th>WindGustSpeed</th>\n      <th>WindDir9am</th>\n      <th>...</th>\n      <th>Humidity9am</th>\n      <th>Humidity3pm</th>\n      <th>Pressure9am</th>\n      <th>Pressure3pm</th>\n      <th>Cloud9am</th>\n      <th>Cloud3pm</th>\n      <th>Temp9am</th>\n      <th>Temp3pm</th>\n      <th>RainToday</th>\n      <th>RainTomorrow</th>\n    </tr>\n  </thead>\n  <tbody>\n    <tr>\n      <th>0</th>\n      <td>2008-12-01</td>\n      <td>Albury</td>\n      <td>13.4</td>\n      <td>22.9</td>\n      <td>0.6</td>\n      <td>5.468232</td>\n      <td>7.611178</td>\n      <td>W</td>\n      <td>44.0</td>\n      <td>W</td>\n      <td>...</td>\n      <td>71.0</td>\n      <td>22.0</td>\n      <td>1007.7</td>\n      <td>1007.1</td>\n      <td>8.000000</td>\n      <td>4.50993</td>\n      <td>16.9</td>\n      <td>21.8</td>\n      <td>No</td>\n      <td>No</td>\n    </tr>\n    <tr>\n      <th>1</th>\n      <td>2008-12-02</td>\n      <td>Albury</td>\n      <td>7.4</td>\n      <td>25.1</td>\n      <td>0.0</td>\n      <td>5.468232</td>\n      <td>7.611178</td>\n      <td>WNW</td>\n      <td>44.0</td>\n      <td>NNW</td>\n      <td>...</td>\n      <td>44.0</td>\n      <td>25.0</td>\n      <td>1010.6</td>\n      <td>1007.8</td>\n      <td>4.447461</td>\n      <td>4.50993</td>\n      <td>17.2</td>\n      <td>24.3</td>\n      <td>No</td>\n      <td>No</td>\n    </tr>\n    <tr>\n      <th>2</th>\n      <td>2008-12-03</td>\n      <td>Albury</td>\n      <td>12.9</td>\n      <td>25.7</td>\n      <td>0.0</td>\n      <td>5.468232</td>\n      <td>7.611178</td>\n      <td>WSW</td>\n      <td>46.0</td>\n      <td>W</td>\n      <td>...</td>\n      <td>38.0</td>\n      <td>30.0</td>\n      <td>1007.6</td>\n      <td>1008.7</td>\n      <td>4.447461</td>\n      <td>2.00000</td>\n      <td>21.0</td>\n      <td>23.2</td>\n      <td>No</td>\n      <td>No</td>\n    </tr>\n    <tr>\n      <th>3</th>\n      <td>2008-12-04</td>\n      <td>Albury</td>\n      <td>9.2</td>\n      <td>28.0</td>\n      <td>0.0</td>\n      <td>5.468232</td>\n      <td>7.611178</td>\n      <td>NE</td>\n      <td>24.0</td>\n      <td>SE</td>\n      <td>...</td>\n      <td>45.0</td>\n      <td>16.0</td>\n      <td>1017.6</td>\n      <td>1012.8</td>\n      <td>4.447461</td>\n      <td>4.50993</td>\n      <td>18.1</td>\n      <td>26.5</td>\n      <td>No</td>\n      <td>No</td>\n    </tr>\n    <tr>\n      <th>4</th>\n      <td>2008-12-05</td>\n      <td>Albury</td>\n      <td>17.5</td>\n      <td>32.3</td>\n      <td>1.0</td>\n      <td>5.468232</td>\n      <td>7.611178</td>\n      <td>W</td>\n      <td>41.0</td>\n      <td>ENE</td>\n      <td>...</td>\n      <td>82.0</td>\n      <td>33.0</td>\n      <td>1010.8</td>\n      <td>1006.0</td>\n      <td>7.000000</td>\n      <td>8.00000</td>\n      <td>17.8</td>\n      <td>29.7</td>\n      <td>No</td>\n      <td>No</td>\n    </tr>\n    <tr>\n      <th>5</th>\n      <td>2008-12-06</td>\n      <td>Albury</td>\n      <td>14.6</td>\n      <td>29.7</td>\n      <td>0.2</td>\n      <td>5.468232</td>\n      <td>7.611178</td>\n      <td>WNW</td>\n      <td>56.0</td>\n      <td>W</td>\n      <td>...</td>\n      <td>55.0</td>\n      <td>23.0</td>\n      <td>1009.2</td>\n      <td>1005.4</td>\n      <td>4.447461</td>\n      <td>4.50993</td>\n      <td>20.6</td>\n      <td>28.9</td>\n      <td>No</td>\n      <td>No</td>\n    </tr>\n    <tr>\n      <th>6</th>\n      <td>2008-12-07</td>\n      <td>Albury</td>\n      <td>14.3</td>\n      <td>25.0</td>\n      <td>0.0</td>\n      <td>5.468232</td>\n      <td>7.611178</td>\n      <td>W</td>\n      <td>50.0</td>\n      <td>SW</td>\n      <td>...</td>\n      <td>49.0</td>\n      <td>19.0</td>\n      <td>1009.6</td>\n      <td>1008.2</td>\n      <td>1.000000</td>\n      <td>4.50993</td>\n      <td>18.1</td>\n      <td>24.6</td>\n      <td>No</td>\n      <td>No</td>\n    </tr>\n    <tr>\n      <th>7</th>\n      <td>2008-12-08</td>\n      <td>Albury</td>\n      <td>7.7</td>\n      <td>26.7</td>\n      <td>0.0</td>\n      <td>5.468232</td>\n      <td>7.611178</td>\n      <td>W</td>\n      <td>35.0</td>\n      <td>SSE</td>\n      <td>...</td>\n      <td>48.0</td>\n      <td>19.0</td>\n      <td>1013.4</td>\n      <td>1010.1</td>\n      <td>4.447461</td>\n      <td>4.50993</td>\n      <td>16.3</td>\n      <td>25.5</td>\n      <td>No</td>\n      <td>No</td>\n    </tr>\n    <tr>\n      <th>8</th>\n      <td>2008-12-09</td>\n      <td>Albury</td>\n      <td>9.7</td>\n      <td>31.9</td>\n      <td>0.0</td>\n      <td>5.468232</td>\n      <td>7.611178</td>\n      <td>NNW</td>\n      <td>80.0</td>\n      <td>SE</td>\n      <td>...</td>\n      <td>42.0</td>\n      <td>9.0</td>\n      <td>1008.9</td>\n      <td>1003.6</td>\n      <td>4.447461</td>\n      <td>4.50993</td>\n      <td>18.3</td>\n      <td>30.2</td>\n      <td>No</td>\n      <td>Yes</td>\n    </tr>\n    <tr>\n      <th>9</th>\n      <td>2008-12-10</td>\n      <td>Albury</td>\n      <td>13.1</td>\n      <td>30.1</td>\n      <td>1.4</td>\n      <td>5.468232</td>\n      <td>7.611178</td>\n      <td>W</td>\n      <td>28.0</td>\n      <td>S</td>\n      <td>...</td>\n      <td>58.0</td>\n      <td>27.0</td>\n      <td>1007.0</td>\n      <td>1005.7</td>\n      <td>4.447461</td>\n      <td>4.50993</td>\n      <td>20.1</td>\n      <td>28.2</td>\n      <td>Yes</td>\n      <td>No</td>\n    </tr>\n  </tbody>\n</table>\n<p>10 rows × 23 columns</p>\n</div>"
     },
     "metadata": {},
     "execution_count": 34
    }
   ],
   "source": [
    "data.head(10)"
   ]
  },
  {
   "cell_type": "code",
   "execution_count": 35,
   "metadata": {},
   "outputs": [
    {
     "output_type": "stream",
     "name": "stdout",
     "text": [
      "<class 'pandas.core.frame.DataFrame'>\nRangeIndex: 145460 entries, 0 to 145459\nData columns (total 23 columns):\n #   Column         Non-Null Count   Dtype  \n---  ------         --------------   -----  \n 0   Date           145460 non-null  object \n 1   Location       145460 non-null  object \n 2   MinTemp        145460 non-null  float64\n 3   MaxTemp        145460 non-null  float64\n 4   Rainfall       145460 non-null  float64\n 5   Evaporation    145460 non-null  float64\n 6   Sunshine       145460 non-null  float64\n 7   WindGustDir    145460 non-null  object \n 8   WindGustSpeed  145460 non-null  float64\n 9   WindDir9am     145460 non-null  object \n 10  WindDir3pm     145460 non-null  object \n 11  WindSpeed9am   145460 non-null  float64\n 12  WindSpeed3pm   145460 non-null  float64\n 13  Humidity9am    145460 non-null  float64\n 14  Humidity3pm    145460 non-null  float64\n 15  Pressure9am    145460 non-null  float64\n 16  Pressure3pm    145460 non-null  float64\n 17  Cloud9am       145460 non-null  float64\n 18  Cloud3pm       145460 non-null  float64\n 19  Temp9am        145460 non-null  float64\n 20  Temp3pm        145460 non-null  float64\n 21  RainToday      145460 non-null  object \n 22  RainTomorrow   145460 non-null  object \ndtypes: float64(16), object(7)\nmemory usage: 21.6+ MB\n"
     ]
    }
   ],
   "source": [
    "data.info()"
   ]
  },
  {
   "cell_type": "code",
   "execution_count": 36,
   "metadata": {},
   "outputs": [
    {
     "output_type": "execute_result",
     "data": {
      "text/plain": [
       "Index(['Date', 'Location', 'MinTemp', 'MaxTemp', 'Rainfall', 'Evaporation',\n",
       "       'Sunshine', 'WindGustDir', 'WindGustSpeed', 'WindDir9am', 'WindDir3pm',\n",
       "       'WindSpeed9am', 'WindSpeed3pm', 'Humidity9am', 'Humidity3pm',\n",
       "       'Pressure9am', 'Pressure3pm', 'Cloud9am', 'Cloud3pm', 'Temp9am',\n",
       "       'Temp3pm', 'RainToday', 'RainTomorrow'],\n",
       "      dtype='object')"
      ]
     },
     "metadata": {},
     "execution_count": 36
    }
   ],
   "source": [
    "data.columns"
   ]
  },
  {
   "source": [
    "<h2>GUARDAMOS LOS CAMBIOS HECHOS EN UN ARCHVIO EXTERNO(guardar la partida)</h2>"
   ],
   "cell_type": "markdown",
   "metadata": {}
  },
  {
   "cell_type": "code",
   "execution_count": 37,
   "metadata": {},
   "outputs": [],
   "source": [
    "data.to_csv('datasets\\weatherAUSnoNulls.csv', index=False)"
   ]
  }
 ]
}