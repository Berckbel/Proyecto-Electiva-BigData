{
 "metadata": {
  "language_info": {
   "codemirror_mode": {
    "name": "ipython",
    "version": 3
   },
   "file_extension": ".py",
   "mimetype": "text/x-python",
   "name": "python",
   "nbconvert_exporter": "python",
   "pygments_lexer": "ipython3",
   "version": "3.8.4"
  },
  "orig_nbformat": 2,
  "kernelspec": {
   "name": "python384jvsc74a57bd07816e210d227dabd5ca54f694af37b54db368e6fe10fb0d3820fcb1dcb64597f",
   "display_name": "Python 3.8.4 32-bit"
  }
 },
 "nbformat": 4,
 "nbformat_minor": 2,
 "cells": [
  {
   "cell_type": "code",
   "execution_count": 5,
   "metadata": {},
   "outputs": [],
   "source": [
    "import pandas as pd\n",
    "import numpy as np\n",
    "import seaborn as sns\n",
    "import matplotlib.pyplot as plt\n",
    "from sklearn.ensemble import RandomForestClassifier\n",
    "from sklearn.neighbors import KNeighborsClassifier\n",
    "from sklearn.ensemble import GradientBoostingClassifier\n",
    "from sklearn.metrics import accuracy_score\n",
    "from sklearn.metrics import mean_absolute_error, mean_squared_error\n",
    "import pickle"
   ]
  },
  {
   "cell_type": "code",
   "execution_count": 6,
   "metadata": {},
   "outputs": [],
   "source": [
    "X_train = pd.read_csv('datosParaModelo\\X_train.csv')\n",
    "X_test = pd.read_csv('datosParaModelo\\X_test.csv')\n",
    "y_train = pd.read_csv('datosParaModelo\\y_train.csv')\n",
    "y_test = pd.read_csv('datosParaModelo\\y_test.csv')\n",
    "x_val = pd.read_csv('datosParaModelo\\X_val.csv')\n",
    "y_val = pd.read_csv('datosParaModelo\\y_val.csv')"
   ]
  },
  {
   "cell_type": "code",
   "execution_count": 3,
   "metadata": {},
   "outputs": [],
   "source": [
    "y_train = y_train.values.T[0]"
   ]
  },
  {
   "source": [
    "<h1>GradientBoost Classifier</h1>"
   ],
   "cell_type": "markdown",
   "metadata": {}
  },
  {
   "cell_type": "code",
   "execution_count": 4,
   "metadata": {},
   "outputs": [],
   "source": [
    "modelGradientBoostC = GradientBoostingClassifier(loss='exponential',learning_rate=0.15,n_estimators=100, max_depth=5).fit(X_train, y_train)"
   ]
  },
  {
   "cell_type": "code",
   "execution_count": 5,
   "metadata": {},
   "outputs": [
    {
     "output_type": "stream",
     "name": "stdout",
     "text": [
      "Gradient Score:  0.8551654597121643\nMAE Gradient:  0.14483454028783574\nMSE Gradient:  0.14483454028783574\n"
     ]
    }
   ],
   "source": [
    "boost_pred = modelGradientBoostC.predict(X_test)\n",
    "print('Gradient Score: ', modelGradientBoostC.score(X_test, y_test))\n",
    "print('MAE Gradient: ', mean_absolute_error(y_test, boost_pred))\n",
    "print('MSE Gradient: ', mean_squared_error(y_test, boost_pred))"
   ]
  },
  {
   "cell_type": "code",
   "execution_count": 11,
   "metadata": {},
   "outputs": [],
   "source": [
    "ruta = 'modelos\\modelGradientBoostC_85.pkl'\n",
    "pickle.dump(modelGradientBoostC, open(ruta, 'wb'))"
   ]
  },
  {
   "source": [
    "<h1>KNNC</h1>"
   ],
   "cell_type": "markdown",
   "metadata": {}
  },
  {
   "cell_type": "code",
   "execution_count": 7,
   "metadata": {},
   "outputs": [
    {
     "output_type": "execute_result",
     "data": {
      "text/plain": [
       "KNeighborsClassifier(n_neighbors=2)"
      ]
     },
     "metadata": {},
     "execution_count": 7
    }
   ],
   "source": [
    "modelKNNC = KNeighborsClassifier(2)\n",
    "modelKNNC.fit(X_train, y_train)"
   ]
  },
  {
   "cell_type": "code",
   "execution_count": 8,
   "metadata": {},
   "outputs": [],
   "source": [
    "y_pred = modelKNNC.predict(X_test)"
   ]
  },
  {
   "cell_type": "code",
   "execution_count": 9,
   "metadata": {},
   "outputs": [
    {
     "output_type": "stream",
     "name": "stdout",
     "text": [
      "KNNC Score:  0.8266568888074067\nMAE KNNC:  0.17334311119259327\nMSE KNNC:  0.17334311119259327\n"
     ]
    }
   ],
   "source": [
    "print('KNNC Score: ', modelKNNC.score(X_test, y_test))\n",
    "print('MAE KNNC: ', mean_absolute_error(y_test, y_pred))\n",
    "print('MSE KNNC: ', mean_squared_error(y_test, y_pred))"
   ]
  },
  {
   "cell_type": "code",
   "execution_count": 10,
   "metadata": {},
   "outputs": [],
   "source": [
    "ruta = 'modelos\\modelKNNC_82.pkl'\n",
    "pickle.dump(modelKNNC, open(ruta, 'wb'))"
   ]
  },
  {
   "source": [
    "<h1>Random Forest Classifier</h1>"
   ],
   "cell_type": "markdown",
   "metadata": {}
  },
  {
   "cell_type": "code",
   "execution_count": 12,
   "metadata": {},
   "outputs": [],
   "source": [
    "params_rf = {'max_depth': 16,\n",
    "             'min_samples_leaf': 1,\n",
    "             'min_samples_split': 2,\n",
    "             'n_estimators': 100,\n",
    "             'random_state': 12345}"
   ]
  },
  {
   "cell_type": "code",
   "execution_count": 13,
   "metadata": {},
   "outputs": [
    {
     "output_type": "execute_result",
     "data": {
      "text/plain": [
       "RandomForestClassifier(max_depth=16, random_state=12345)"
      ]
     },
     "metadata": {},
     "execution_count": 13
    }
   ],
   "source": [
    "modelRandomForestC = RandomForestClassifier(**params_rf)\n",
    "modelRandomForestC.fit(X_train, y_train)"
   ]
  },
  {
   "cell_type": "code",
   "execution_count": 14,
   "metadata": {},
   "outputs": [],
   "source": [
    "y_pred = modelRandomForestC.predict(X_test)"
   ]
  },
  {
   "cell_type": "code",
   "execution_count": 15,
   "metadata": {},
   "outputs": [
    {
     "output_type": "stream",
     "name": "stdout",
     "text": [
      "RandomForestC Score:  0.8524612705105876\nMAE RandomForestC:  0.14483454028783574\nMSE RandomForestC:  0.14483454028783574\n"
     ]
    }
   ],
   "source": [
    "print('RandomForestC Score: ', modelRandomForestC.score(X_test, y_test))\n",
    "print('MAE RandomForestC: ', mean_absolute_error(y_test, y_pred))\n",
    "print('MSE RandomForestC: ', mean_squared_error(y_test, y_pred))"
   ]
  },
  {
   "cell_type": "code",
   "execution_count": 16,
   "metadata": {},
   "outputs": [],
   "source": [
    "ruta = 'modelos\\modelRandomForestC_85.pkl'\n",
    "pickle.dump(modelRandomForestC, open(ruta, 'wb'))"
   ]
  }
 ]
}