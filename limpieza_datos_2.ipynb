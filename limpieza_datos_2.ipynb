{
 "metadata": {
  "language_info": {
   "codemirror_mode": {
    "name": "ipython",
    "version": 3
   },
   "file_extension": ".py",
   "mimetype": "text/x-python",
   "name": "python",
   "nbconvert_exporter": "python",
   "pygments_lexer": "ipython3",
   "version": "3.8.4"
  },
  "orig_nbformat": 2,
  "kernelspec": {
   "name": "python384jvsc74a57bd07816e210d227dabd5ca54f694af37b54db368e6fe10fb0d3820fcb1dcb64597f",
   "display_name": "Python 3.8.4 32-bit"
  }
 },
 "nbformat": 4,
 "nbformat_minor": 2,
 "cells": [
  {
   "cell_type": "code",
   "execution_count": 1,
   "metadata": {},
   "outputs": [],
   "source": [
    "import pandas as pd\n",
    "import numpy as np\n",
    "import seaborn as sns\n",
    "import matplotlib.pyplot as plt"
   ]
  },
  {
   "source": [
    "<h1>OHE DE DATOS CATEGORICOS Y 0/1 A DATOS BOOLEANOS</h1>"
   ],
   "cell_type": "markdown",
   "metadata": {}
  },
  {
   "cell_type": "code",
   "execution_count": 2,
   "metadata": {},
   "outputs": [],
   "source": [
    "data = pd.read_csv('datasets\\weatherAUSnoNulls.csv')"
   ]
  },
  {
   "cell_type": "code",
   "execution_count": 3,
   "metadata": {},
   "outputs": [
    {
     "output_type": "execute_result",
     "data": {
      "text/plain": [
       "         Date Location  MinTemp  MaxTemp  Rainfall  Evaporation  Sunshine  \\\n",
       "0  2008-12-01   Albury     13.4     22.9       0.6     5.468232  7.611178   \n",
       "1  2008-12-02   Albury      7.4     25.1       0.0     5.468232  7.611178   \n",
       "2  2008-12-03   Albury     12.9     25.7       0.0     5.468232  7.611178   \n",
       "3  2008-12-04   Albury      9.2     28.0       0.0     5.468232  7.611178   \n",
       "4  2008-12-05   Albury     17.5     32.3       1.0     5.468232  7.611178   \n",
       "5  2008-12-06   Albury     14.6     29.7       0.2     5.468232  7.611178   \n",
       "6  2008-12-07   Albury     14.3     25.0       0.0     5.468232  7.611178   \n",
       "7  2008-12-08   Albury      7.7     26.7       0.0     5.468232  7.611178   \n",
       "8  2008-12-09   Albury      9.7     31.9       0.0     5.468232  7.611178   \n",
       "9  2008-12-10   Albury     13.1     30.1       1.4     5.468232  7.611178   \n",
       "\n",
       "  WindGustDir  WindGustSpeed WindDir9am  ... Humidity9am  Humidity3pm  \\\n",
       "0           W           44.0          W  ...        71.0         22.0   \n",
       "1         WNW           44.0        NNW  ...        44.0         25.0   \n",
       "2         WSW           46.0          W  ...        38.0         30.0   \n",
       "3          NE           24.0         SE  ...        45.0         16.0   \n",
       "4           W           41.0        ENE  ...        82.0         33.0   \n",
       "5         WNW           56.0          W  ...        55.0         23.0   \n",
       "6           W           50.0         SW  ...        49.0         19.0   \n",
       "7           W           35.0        SSE  ...        48.0         19.0   \n",
       "8         NNW           80.0         SE  ...        42.0          9.0   \n",
       "9           W           28.0          S  ...        58.0         27.0   \n",
       "\n",
       "   Pressure9am  Pressure3pm  Cloud9am  Cloud3pm  Temp9am  Temp3pm  RainToday  \\\n",
       "0       1007.7       1007.1  8.000000   4.50993     16.9     21.8         No   \n",
       "1       1010.6       1007.8  4.447461   4.50993     17.2     24.3         No   \n",
       "2       1007.6       1008.7  4.447461   2.00000     21.0     23.2         No   \n",
       "3       1017.6       1012.8  4.447461   4.50993     18.1     26.5         No   \n",
       "4       1010.8       1006.0  7.000000   8.00000     17.8     29.7         No   \n",
       "5       1009.2       1005.4  4.447461   4.50993     20.6     28.9         No   \n",
       "6       1009.6       1008.2  1.000000   4.50993     18.1     24.6         No   \n",
       "7       1013.4       1010.1  4.447461   4.50993     16.3     25.5         No   \n",
       "8       1008.9       1003.6  4.447461   4.50993     18.3     30.2         No   \n",
       "9       1007.0       1005.7  4.447461   4.50993     20.1     28.2        Yes   \n",
       "\n",
       "   RainTomorrow  \n",
       "0            No  \n",
       "1            No  \n",
       "2            No  \n",
       "3            No  \n",
       "4            No  \n",
       "5            No  \n",
       "6            No  \n",
       "7            No  \n",
       "8           Yes  \n",
       "9            No  \n",
       "\n",
       "[10 rows x 23 columns]"
      ],
      "text/html": "<div>\n<style scoped>\n    .dataframe tbody tr th:only-of-type {\n        vertical-align: middle;\n    }\n\n    .dataframe tbody tr th {\n        vertical-align: top;\n    }\n\n    .dataframe thead th {\n        text-align: right;\n    }\n</style>\n<table border=\"1\" class=\"dataframe\">\n  <thead>\n    <tr style=\"text-align: right;\">\n      <th></th>\n      <th>Date</th>\n      <th>Location</th>\n      <th>MinTemp</th>\n      <th>MaxTemp</th>\n      <th>Rainfall</th>\n      <th>Evaporation</th>\n      <th>Sunshine</th>\n      <th>WindGustDir</th>\n      <th>WindGustSpeed</th>\n      <th>WindDir9am</th>\n      <th>...</th>\n      <th>Humidity9am</th>\n      <th>Humidity3pm</th>\n      <th>Pressure9am</th>\n      <th>Pressure3pm</th>\n      <th>Cloud9am</th>\n      <th>Cloud3pm</th>\n      <th>Temp9am</th>\n      <th>Temp3pm</th>\n      <th>RainToday</th>\n      <th>RainTomorrow</th>\n    </tr>\n  </thead>\n  <tbody>\n    <tr>\n      <th>0</th>\n      <td>2008-12-01</td>\n      <td>Albury</td>\n      <td>13.4</td>\n      <td>22.9</td>\n      <td>0.6</td>\n      <td>5.468232</td>\n      <td>7.611178</td>\n      <td>W</td>\n      <td>44.0</td>\n      <td>W</td>\n      <td>...</td>\n      <td>71.0</td>\n      <td>22.0</td>\n      <td>1007.7</td>\n      <td>1007.1</td>\n      <td>8.000000</td>\n      <td>4.50993</td>\n      <td>16.9</td>\n      <td>21.8</td>\n      <td>No</td>\n      <td>No</td>\n    </tr>\n    <tr>\n      <th>1</th>\n      <td>2008-12-02</td>\n      <td>Albury</td>\n      <td>7.4</td>\n      <td>25.1</td>\n      <td>0.0</td>\n      <td>5.468232</td>\n      <td>7.611178</td>\n      <td>WNW</td>\n      <td>44.0</td>\n      <td>NNW</td>\n      <td>...</td>\n      <td>44.0</td>\n      <td>25.0</td>\n      <td>1010.6</td>\n      <td>1007.8</td>\n      <td>4.447461</td>\n      <td>4.50993</td>\n      <td>17.2</td>\n      <td>24.3</td>\n      <td>No</td>\n      <td>No</td>\n    </tr>\n    <tr>\n      <th>2</th>\n      <td>2008-12-03</td>\n      <td>Albury</td>\n      <td>12.9</td>\n      <td>25.7</td>\n      <td>0.0</td>\n      <td>5.468232</td>\n      <td>7.611178</td>\n      <td>WSW</td>\n      <td>46.0</td>\n      <td>W</td>\n      <td>...</td>\n      <td>38.0</td>\n      <td>30.0</td>\n      <td>1007.6</td>\n      <td>1008.7</td>\n      <td>4.447461</td>\n      <td>2.00000</td>\n      <td>21.0</td>\n      <td>23.2</td>\n      <td>No</td>\n      <td>No</td>\n    </tr>\n    <tr>\n      <th>3</th>\n      <td>2008-12-04</td>\n      <td>Albury</td>\n      <td>9.2</td>\n      <td>28.0</td>\n      <td>0.0</td>\n      <td>5.468232</td>\n      <td>7.611178</td>\n      <td>NE</td>\n      <td>24.0</td>\n      <td>SE</td>\n      <td>...</td>\n      <td>45.0</td>\n      <td>16.0</td>\n      <td>1017.6</td>\n      <td>1012.8</td>\n      <td>4.447461</td>\n      <td>4.50993</td>\n      <td>18.1</td>\n      <td>26.5</td>\n      <td>No</td>\n      <td>No</td>\n    </tr>\n    <tr>\n      <th>4</th>\n      <td>2008-12-05</td>\n      <td>Albury</td>\n      <td>17.5</td>\n      <td>32.3</td>\n      <td>1.0</td>\n      <td>5.468232</td>\n      <td>7.611178</td>\n      <td>W</td>\n      <td>41.0</td>\n      <td>ENE</td>\n      <td>...</td>\n      <td>82.0</td>\n      <td>33.0</td>\n      <td>1010.8</td>\n      <td>1006.0</td>\n      <td>7.000000</td>\n      <td>8.00000</td>\n      <td>17.8</td>\n      <td>29.7</td>\n      <td>No</td>\n      <td>No</td>\n    </tr>\n    <tr>\n      <th>5</th>\n      <td>2008-12-06</td>\n      <td>Albury</td>\n      <td>14.6</td>\n      <td>29.7</td>\n      <td>0.2</td>\n      <td>5.468232</td>\n      <td>7.611178</td>\n      <td>WNW</td>\n      <td>56.0</td>\n      <td>W</td>\n      <td>...</td>\n      <td>55.0</td>\n      <td>23.0</td>\n      <td>1009.2</td>\n      <td>1005.4</td>\n      <td>4.447461</td>\n      <td>4.50993</td>\n      <td>20.6</td>\n      <td>28.9</td>\n      <td>No</td>\n      <td>No</td>\n    </tr>\n    <tr>\n      <th>6</th>\n      <td>2008-12-07</td>\n      <td>Albury</td>\n      <td>14.3</td>\n      <td>25.0</td>\n      <td>0.0</td>\n      <td>5.468232</td>\n      <td>7.611178</td>\n      <td>W</td>\n      <td>50.0</td>\n      <td>SW</td>\n      <td>...</td>\n      <td>49.0</td>\n      <td>19.0</td>\n      <td>1009.6</td>\n      <td>1008.2</td>\n      <td>1.000000</td>\n      <td>4.50993</td>\n      <td>18.1</td>\n      <td>24.6</td>\n      <td>No</td>\n      <td>No</td>\n    </tr>\n    <tr>\n      <th>7</th>\n      <td>2008-12-08</td>\n      <td>Albury</td>\n      <td>7.7</td>\n      <td>26.7</td>\n      <td>0.0</td>\n      <td>5.468232</td>\n      <td>7.611178</td>\n      <td>W</td>\n      <td>35.0</td>\n      <td>SSE</td>\n      <td>...</td>\n      <td>48.0</td>\n      <td>19.0</td>\n      <td>1013.4</td>\n      <td>1010.1</td>\n      <td>4.447461</td>\n      <td>4.50993</td>\n      <td>16.3</td>\n      <td>25.5</td>\n      <td>No</td>\n      <td>No</td>\n    </tr>\n    <tr>\n      <th>8</th>\n      <td>2008-12-09</td>\n      <td>Albury</td>\n      <td>9.7</td>\n      <td>31.9</td>\n      <td>0.0</td>\n      <td>5.468232</td>\n      <td>7.611178</td>\n      <td>NNW</td>\n      <td>80.0</td>\n      <td>SE</td>\n      <td>...</td>\n      <td>42.0</td>\n      <td>9.0</td>\n      <td>1008.9</td>\n      <td>1003.6</td>\n      <td>4.447461</td>\n      <td>4.50993</td>\n      <td>18.3</td>\n      <td>30.2</td>\n      <td>No</td>\n      <td>Yes</td>\n    </tr>\n    <tr>\n      <th>9</th>\n      <td>2008-12-10</td>\n      <td>Albury</td>\n      <td>13.1</td>\n      <td>30.1</td>\n      <td>1.4</td>\n      <td>5.468232</td>\n      <td>7.611178</td>\n      <td>W</td>\n      <td>28.0</td>\n      <td>S</td>\n      <td>...</td>\n      <td>58.0</td>\n      <td>27.0</td>\n      <td>1007.0</td>\n      <td>1005.7</td>\n      <td>4.447461</td>\n      <td>4.50993</td>\n      <td>20.1</td>\n      <td>28.2</td>\n      <td>Yes</td>\n      <td>No</td>\n    </tr>\n  </tbody>\n</table>\n<p>10 rows × 23 columns</p>\n</div>"
     },
     "metadata": {},
     "execution_count": 3
    }
   ],
   "source": [
    "data.head(10)"
   ]
  },
  {
   "source": [
    "<h2>OHE de el feature Date (año|mes|dia)</h2>"
   ],
   "cell_type": "markdown",
   "metadata": {}
  },
  {
   "cell_type": "code",
   "execution_count": 4,
   "metadata": {},
   "outputs": [],
   "source": [
    "#--OHE Date\n",
    "data['Date'] = pd.to_datetime(data['Date'], format = '%Y-%m-%d')\n",
    "data['Date_Year'] = data['Date'].dt.year\n",
    "data['Date_Month'] = data['Date'].dt.month\n",
    "data['Date_Day'] = data['Date'].dt.day"
   ]
  },
  {
   "source": [
    "<h2>OHE de las features Location, WindGustDir, WindDir9am y WindDir3pm </h2>"
   ],
   "cell_type": "markdown",
   "metadata": {}
  },
  {
   "cell_type": "code",
   "execution_count": 5,
   "metadata": {},
   "outputs": [],
   "source": [
    "#---OHE Location\n",
    "data = pd.concat([data, pd.get_dummies(data['Location'], prefix='Location_')], axis=1)\n",
    "#--OHE WindGustDir\n",
    "data = pd.concat([data, pd.get_dummies(data['WindGustDir'], prefix='WindGustDir_')], axis=1)\n",
    "#--OHE WindDir9am\n",
    "data = pd.concat([data, pd.get_dummies(data['WindDir9am'], prefix='WindDir9am_')], axis=1)\n",
    "#--OHE WindDir3pm\n",
    "data = pd.concat([data, pd.get_dummies(data['WindDir3pm'], prefix='WindDir3pm_')], axis=1)"
   ]
  },
  {
   "cell_type": "code",
   "execution_count": 6,
   "metadata": {},
   "outputs": [],
   "source": [
    "data.drop(labels=['Date', 'Location', 'WindGustDir', 'WindDir9am', 'WindDir3pm'], axis=1, inplace=True)"
   ]
  },
  {
   "cell_type": "code",
   "execution_count": 7,
   "metadata": {},
   "outputs": [
    {
     "output_type": "execute_result",
     "data": {
      "text/plain": [
       "   MinTemp  MaxTemp  Rainfall  Evaporation  Sunshine  WindGustSpeed  \\\n",
       "0     13.4     22.9       0.6     5.468232  7.611178           44.0   \n",
       "\n",
       "   WindSpeed9am  WindSpeed3pm  Humidity9am  Humidity3pm  ...  WindDir3pm__NNW  \\\n",
       "0          20.0          24.0         71.0         22.0  ...                0   \n",
       "\n",
       "   WindDir3pm__NW  WindDir3pm__S  WindDir3pm__SE  WindDir3pm__SSE  \\\n",
       "0               0              0               0                0   \n",
       "\n",
       "   WindDir3pm__SSW WindDir3pm__SW WindDir3pm__W  WindDir3pm__WNW  \\\n",
       "0                0              0             0                1   \n",
       "\n",
       "   WindDir3pm__WSW  \n",
       "0                0  \n",
       "\n",
       "[1 rows x 118 columns]"
      ],
      "text/html": "<div>\n<style scoped>\n    .dataframe tbody tr th:only-of-type {\n        vertical-align: middle;\n    }\n\n    .dataframe tbody tr th {\n        vertical-align: top;\n    }\n\n    .dataframe thead th {\n        text-align: right;\n    }\n</style>\n<table border=\"1\" class=\"dataframe\">\n  <thead>\n    <tr style=\"text-align: right;\">\n      <th></th>\n      <th>MinTemp</th>\n      <th>MaxTemp</th>\n      <th>Rainfall</th>\n      <th>Evaporation</th>\n      <th>Sunshine</th>\n      <th>WindGustSpeed</th>\n      <th>WindSpeed9am</th>\n      <th>WindSpeed3pm</th>\n      <th>Humidity9am</th>\n      <th>Humidity3pm</th>\n      <th>...</th>\n      <th>WindDir3pm__NNW</th>\n      <th>WindDir3pm__NW</th>\n      <th>WindDir3pm__S</th>\n      <th>WindDir3pm__SE</th>\n      <th>WindDir3pm__SSE</th>\n      <th>WindDir3pm__SSW</th>\n      <th>WindDir3pm__SW</th>\n      <th>WindDir3pm__W</th>\n      <th>WindDir3pm__WNW</th>\n      <th>WindDir3pm__WSW</th>\n    </tr>\n  </thead>\n  <tbody>\n    <tr>\n      <th>0</th>\n      <td>13.4</td>\n      <td>22.9</td>\n      <td>0.6</td>\n      <td>5.468232</td>\n      <td>7.611178</td>\n      <td>44.0</td>\n      <td>20.0</td>\n      <td>24.0</td>\n      <td>71.0</td>\n      <td>22.0</td>\n      <td>...</td>\n      <td>0</td>\n      <td>0</td>\n      <td>0</td>\n      <td>0</td>\n      <td>0</td>\n      <td>0</td>\n      <td>0</td>\n      <td>0</td>\n      <td>1</td>\n      <td>0</td>\n    </tr>\n  </tbody>\n</table>\n<p>1 rows × 118 columns</p>\n</div>"
     },
     "metadata": {},
     "execution_count": 7
    }
   ],
   "source": [
    "data.head(1)"
   ]
  },
  {
   "source": [
    "<h2>datos booleanos Yes/No -> 1/0 (RainToday, RainTomorrow)</h2>"
   ],
   "cell_type": "markdown",
   "metadata": {}
  },
  {
   "cell_type": "code",
   "execution_count": 8,
   "metadata": {},
   "outputs": [],
   "source": [
    "#--Mejoramos RainToday / RainTomorrow\n",
    "data['RainToday'] = data['RainToday'].replace('No', 0)\n",
    "data['RainToday'] = data['RainToday'].replace('Yes', 1)\n",
    "\n",
    "data['RainTomorrow'] = data['RainTomorrow'].replace('No', 0)\n",
    "data['RainTomorrow'] = data['RainTomorrow'].replace('Yes', 1)"
   ]
  },
  {
   "cell_type": "code",
   "execution_count": 9,
   "metadata": {},
   "outputs": [
    {
     "output_type": "execute_result",
     "data": {
      "text/plain": [
       "   MinTemp  MaxTemp  Rainfall  Evaporation  Sunshine  WindGustSpeed  \\\n",
       "0     13.4     22.9       0.6     5.468232  7.611178           44.0   \n",
       "1      7.4     25.1       0.0     5.468232  7.611178           44.0   \n",
       "2     12.9     25.7       0.0     5.468232  7.611178           46.0   \n",
       "3      9.2     28.0       0.0     5.468232  7.611178           24.0   \n",
       "4     17.5     32.3       1.0     5.468232  7.611178           41.0   \n",
       "\n",
       "   WindSpeed9am  WindSpeed3pm  Humidity9am  Humidity3pm  ...  WindDir3pm__NNW  \\\n",
       "0          20.0          24.0         71.0         22.0  ...                0   \n",
       "1           4.0          22.0         44.0         25.0  ...                0   \n",
       "2          19.0          26.0         38.0         30.0  ...                0   \n",
       "3          11.0           9.0         45.0         16.0  ...                0   \n",
       "4           7.0          20.0         82.0         33.0  ...                0   \n",
       "\n",
       "   WindDir3pm__NW  WindDir3pm__S  WindDir3pm__SE  WindDir3pm__SSE  \\\n",
       "0               0              0               0                0   \n",
       "1               0              0               0                0   \n",
       "2               0              0               0                0   \n",
       "3               0              0               0                0   \n",
       "4               1              0               0                0   \n",
       "\n",
       "   WindDir3pm__SSW  WindDir3pm__SW  WindDir3pm__W  WindDir3pm__WNW  \\\n",
       "0                0               0              0                1   \n",
       "1                0               0              0                0   \n",
       "2                0               0              0                0   \n",
       "3                0               0              0                0   \n",
       "4                0               0              0                0   \n",
       "\n",
       "   WindDir3pm__WSW  \n",
       "0                0  \n",
       "1                1  \n",
       "2                1  \n",
       "3                0  \n",
       "4                0  \n",
       "\n",
       "[5 rows x 118 columns]"
      ],
      "text/html": "<div>\n<style scoped>\n    .dataframe tbody tr th:only-of-type {\n        vertical-align: middle;\n    }\n\n    .dataframe tbody tr th {\n        vertical-align: top;\n    }\n\n    .dataframe thead th {\n        text-align: right;\n    }\n</style>\n<table border=\"1\" class=\"dataframe\">\n  <thead>\n    <tr style=\"text-align: right;\">\n      <th></th>\n      <th>MinTemp</th>\n      <th>MaxTemp</th>\n      <th>Rainfall</th>\n      <th>Evaporation</th>\n      <th>Sunshine</th>\n      <th>WindGustSpeed</th>\n      <th>WindSpeed9am</th>\n      <th>WindSpeed3pm</th>\n      <th>Humidity9am</th>\n      <th>Humidity3pm</th>\n      <th>...</th>\n      <th>WindDir3pm__NNW</th>\n      <th>WindDir3pm__NW</th>\n      <th>WindDir3pm__S</th>\n      <th>WindDir3pm__SE</th>\n      <th>WindDir3pm__SSE</th>\n      <th>WindDir3pm__SSW</th>\n      <th>WindDir3pm__SW</th>\n      <th>WindDir3pm__W</th>\n      <th>WindDir3pm__WNW</th>\n      <th>WindDir3pm__WSW</th>\n    </tr>\n  </thead>\n  <tbody>\n    <tr>\n      <th>0</th>\n      <td>13.4</td>\n      <td>22.9</td>\n      <td>0.6</td>\n      <td>5.468232</td>\n      <td>7.611178</td>\n      <td>44.0</td>\n      <td>20.0</td>\n      <td>24.0</td>\n      <td>71.0</td>\n      <td>22.0</td>\n      <td>...</td>\n      <td>0</td>\n      <td>0</td>\n      <td>0</td>\n      <td>0</td>\n      <td>0</td>\n      <td>0</td>\n      <td>0</td>\n      <td>0</td>\n      <td>1</td>\n      <td>0</td>\n    </tr>\n    <tr>\n      <th>1</th>\n      <td>7.4</td>\n      <td>25.1</td>\n      <td>0.0</td>\n      <td>5.468232</td>\n      <td>7.611178</td>\n      <td>44.0</td>\n      <td>4.0</td>\n      <td>22.0</td>\n      <td>44.0</td>\n      <td>25.0</td>\n      <td>...</td>\n      <td>0</td>\n      <td>0</td>\n      <td>0</td>\n      <td>0</td>\n      <td>0</td>\n      <td>0</td>\n      <td>0</td>\n      <td>0</td>\n      <td>0</td>\n      <td>1</td>\n    </tr>\n    <tr>\n      <th>2</th>\n      <td>12.9</td>\n      <td>25.7</td>\n      <td>0.0</td>\n      <td>5.468232</td>\n      <td>7.611178</td>\n      <td>46.0</td>\n      <td>19.0</td>\n      <td>26.0</td>\n      <td>38.0</td>\n      <td>30.0</td>\n      <td>...</td>\n      <td>0</td>\n      <td>0</td>\n      <td>0</td>\n      <td>0</td>\n      <td>0</td>\n      <td>0</td>\n      <td>0</td>\n      <td>0</td>\n      <td>0</td>\n      <td>1</td>\n    </tr>\n    <tr>\n      <th>3</th>\n      <td>9.2</td>\n      <td>28.0</td>\n      <td>0.0</td>\n      <td>5.468232</td>\n      <td>7.611178</td>\n      <td>24.0</td>\n      <td>11.0</td>\n      <td>9.0</td>\n      <td>45.0</td>\n      <td>16.0</td>\n      <td>...</td>\n      <td>0</td>\n      <td>0</td>\n      <td>0</td>\n      <td>0</td>\n      <td>0</td>\n      <td>0</td>\n      <td>0</td>\n      <td>0</td>\n      <td>0</td>\n      <td>0</td>\n    </tr>\n    <tr>\n      <th>4</th>\n      <td>17.5</td>\n      <td>32.3</td>\n      <td>1.0</td>\n      <td>5.468232</td>\n      <td>7.611178</td>\n      <td>41.0</td>\n      <td>7.0</td>\n      <td>20.0</td>\n      <td>82.0</td>\n      <td>33.0</td>\n      <td>...</td>\n      <td>0</td>\n      <td>1</td>\n      <td>0</td>\n      <td>0</td>\n      <td>0</td>\n      <td>0</td>\n      <td>0</td>\n      <td>0</td>\n      <td>0</td>\n      <td>0</td>\n    </tr>\n  </tbody>\n</table>\n<p>5 rows × 118 columns</p>\n</div>"
     },
     "metadata": {},
     "execution_count": 9
    }
   ],
   "source": [
    "data.head()"
   ]
  },
  {
   "cell_type": "code",
   "execution_count": 10,
   "metadata": {},
   "outputs": [
    {
     "output_type": "stream",
     "name": "stdout",
     "text": [
      "<class 'pandas.core.frame.DataFrame'>\nRangeIndex: 145460 entries, 0 to 145459\nColumns: 118 entries, MinTemp to WindDir3pm__WSW\ndtypes: float64(16), int64(5), uint8(97)\nmemory usage: 36.8 MB\n"
     ]
    }
   ],
   "source": [
    "data.info()"
   ]
  },
  {
   "cell_type": "code",
   "execution_count": 11,
   "metadata": {},
   "outputs": [
    {
     "output_type": "execute_result",
     "data": {
      "text/plain": [
       "MinTemp            0\n",
       "MaxTemp            0\n",
       "Rainfall           0\n",
       "Evaporation        0\n",
       "Sunshine           0\n",
       "                  ..\n",
       "WindDir3pm__SSW    0\n",
       "WindDir3pm__SW     0\n",
       "WindDir3pm__W      0\n",
       "WindDir3pm__WNW    0\n",
       "WindDir3pm__WSW    0\n",
       "Length: 118, dtype: int64"
      ]
     },
     "metadata": {},
     "execution_count": 11
    }
   ],
   "source": [
    "pd.isnull(data).sum()"
   ]
  },
  {
   "source": [
    "<h2>GUARDAMOS LOS CAMBIOS HECHOS EN UN ARCHVIO EXTERNO(guardar la partida)</h2>"
   ],
   "cell_type": "markdown",
   "metadata": {}
  },
  {
   "cell_type": "code",
   "execution_count": 12,
   "metadata": {},
   "outputs": [],
   "source": [
    "data.to_csv('datasets\\weatherAUS_clean.csv', index=False)"
   ]
  },
  {
   "cell_type": "code",
   "execution_count": 13,
   "metadata": {},
   "outputs": [
    {
     "output_type": "execute_result",
     "data": {
      "text/plain": [
       "Index(['MinTemp', 'MaxTemp', 'Rainfall', 'Evaporation', 'Sunshine',\n",
       "       'WindGustSpeed', 'WindSpeed9am', 'WindSpeed3pm', 'Humidity9am',\n",
       "       'Humidity3pm',\n",
       "       ...\n",
       "       'WindDir3pm__NNW', 'WindDir3pm__NW', 'WindDir3pm__S', 'WindDir3pm__SE',\n",
       "       'WindDir3pm__SSE', 'WindDir3pm__SSW', 'WindDir3pm__SW', 'WindDir3pm__W',\n",
       "       'WindDir3pm__WNW', 'WindDir3pm__WSW'],\n",
       "      dtype='object', length=118)"
      ]
     },
     "metadata": {},
     "execution_count": 13
    }
   ],
   "source": [
    "data.columns"
   ]
  },
  {
   "cell_type": "code",
   "execution_count": 14,
   "metadata": {},
   "outputs": [
    {
     "output_type": "execute_result",
     "data": {
      "text/plain": [
       "0         22.900000\n",
       "1         25.100000\n",
       "2         25.700000\n",
       "3         28.000000\n",
       "4         32.300000\n",
       "            ...    \n",
       "145455    23.400000\n",
       "145456    25.300000\n",
       "145457    26.900000\n",
       "145458    27.000000\n",
       "145459    23.221348\n",
       "Name: MaxTemp, Length: 145460, dtype: float64"
      ]
     },
     "metadata": {},
     "execution_count": 14
    }
   ],
   "source": [
    "data['MaxTemp']"
   ]
  }
 ]
}